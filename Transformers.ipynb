{
 "cells": [
  {
   "cell_type": "code",
   "execution_count": 1,
   "id": "2b0f3187",
   "metadata": {},
   "outputs": [],
   "source": [
    "import torch\n",
    "import torch.nn as nn\n",
    "import torch.nn.functional as F"
   ]
  },
  {
   "cell_type": "code",
   "execution_count": 2,
   "id": "c88d8d4b",
   "metadata": {},
   "outputs": [],
   "source": [
    "import numpy as np\n",
    "import matplotlib.pyplot as plt"
   ]
  },
  {
   "cell_type": "code",
   "execution_count": 3,
   "id": "3f4359ec",
   "metadata": {},
   "outputs": [],
   "source": [
    "device = \"cuda\" if torch.cuda.is_available() else \"cpu\""
   ]
  },
  {
   "cell_type": "markdown",
   "id": "d55f843f",
   "metadata": {},
   "source": [
    "$\\begin{equation*}\\Large\n",
    "Attention(Q,K,V) = softmax\\left(\\frac{QK^{T}}{\\sqrt{d_k}}\\right)V\n",
    "\\end{equation*}$"
   ]
  },
  {
   "cell_type": "code",
   "execution_count": 6,
   "id": "6e1fff25",
   "metadata": {},
   "outputs": [],
   "source": [
    "def attention(q, k, v, mask=None): # q,k[B, N, seq_len, depth]\n",
    "    depth = q.size(-1)\n",
    "    scale = depth**-0.5\n",
    "    q = q*scale\n",
    "\n",
    "    attn = torch.matmul(q, k.transpose(-2,-1)) # [B, N, seq_len, seq_len]\n",
    "    attn = attn.softmax(dim=-1)\n",
    "    # dropout\n",
    "    out = torch.matmul(attn, v)    # [B, N, seq_len, depth]\n",
    "    return out, attn"
   ]
  },
  {
   "cell_type": "code",
   "execution_count": 7,
   "id": "d16f8b2d",
   "metadata": {},
   "outputs": [],
   "source": [
    "class mhsa(nn.Module):  # multi headed self attention\n",
    "    def __init__(self, emb_dim=512, nheads=8):\n",
    "        super().__init__()\n",
    "        self.nheads = nheads\n",
    "        self.to_qkv = nn.Linear(emb_dim, 3*emb_dim)\n",
    "        self.out_proj = nn.Linear(emb_dim, emb_dim)\n",
    "\n",
    "    def forward(self, x):   # [B, seq_len, emb_dim]\n",
    "        batch_size, seq_len = x.shape[:2]\n",
    "        q,k,v = self.to_qkv(x).chunk(3, dim=-1) # [B, seq_len, emb_dim]\n",
    "        \n",
    "        q = q.view(batch_size, seq_len, self.nheads, -1)\n",
    "        k = k.view_as(q)\n",
    "        v = v.view_as(q)     # [B, seq_len, N, depth]\n",
    "        \n",
    "        q = q.transpose(-2,-3)\n",
    "        k = k.transpose(-2,-3)\n",
    "        v = v.transpose(-2,-3)  # [B, N, seq_len, depth]\n",
    "        \n",
    "        out, attn = attention(q,k,v)\n",
    "        \n",
    "        out = out.transpose(-2,-3)  # [B, seq_len, N, depth]\n",
    "        \n",
    "        out = out.contiguous().view(batch_size, seq_len, -1)\n",
    "        out = self.out_proj(out)\n",
    "        return out, attn"
   ]
  },
  {
   "cell_type": "code",
   "execution_count": 8,
   "id": "38d444bd",
   "metadata": {},
   "outputs": [],
   "source": [
    "atn = mhsa(emb_dim=512).to(device)"
   ]
  },
  {
   "cell_type": "code",
   "execution_count": 9,
   "id": "df8841dc",
   "metadata": {},
   "outputs": [],
   "source": [
    "x = torch.randn(8, 64, 512).to(device)"
   ]
  },
  {
   "cell_type": "code",
   "execution_count": 10,
   "id": "6179b974",
   "metadata": {
    "scrolled": true
   },
   "outputs": [
    {
     "name": "stdout",
     "output_type": "stream",
     "text": [
      "CPU times: user 3.68 ms, sys: 77 µs, total: 3.75 ms\n",
      "Wall time: 2.96 ms\n"
     ]
    },
    {
     "data": {
      "text/plain": [
       "(torch.Size([8, 64, 512]), torch.Size([8, 64, 64]))"
      ]
     },
     "execution_count": 10,
     "metadata": {},
     "output_type": "execute_result"
    }
   ],
   "source": [
    "%%time\n",
    "out, attn = atn(x)\n",
    "out.shape, attn.mean(dim=1).shape"
   ]
  },
  {
   "cell_type": "code",
   "execution_count": 11,
   "id": "dd54f3cd",
   "metadata": {},
   "outputs": [],
   "source": [
    "tmha = nn.MultiheadAttention(embed_dim=512, num_heads=8).to(device)"
   ]
  },
  {
   "cell_type": "code",
   "execution_count": 12,
   "id": "f42026b8",
   "metadata": {},
   "outputs": [
    {
     "data": {
      "text/plain": [
       "torch.Size([64, 8, 512])"
      ]
     },
     "execution_count": 12,
     "metadata": {},
     "output_type": "execute_result"
    }
   ],
   "source": [
    "y = x.transpose(1,0)\n",
    "y.shape"
   ]
  },
  {
   "cell_type": "code",
   "execution_count": 13,
   "id": "c44ebcee",
   "metadata": {},
   "outputs": [],
   "source": [
    "with torch.no_grad():\n",
    "    for w,nw in zip(tmha.parameters(), atn.parameters()):\n",
    "        w.copy_(nw)"
   ]
  },
  {
   "cell_type": "code",
   "execution_count": 14,
   "id": "eceec7b9",
   "metadata": {},
   "outputs": [
    {
     "data": {
      "text/plain": [
       "(torch.Size([64, 8, 512]), torch.Size([8, 64, 64]))"
      ]
     },
     "execution_count": 14,
     "metadata": {},
     "output_type": "execute_result"
    }
   ],
   "source": [
    "o,a = tmha(y,y,y)\n",
    "o.shape, a.shape"
   ]
  },
  {
   "cell_type": "code",
   "execution_count": 23,
   "id": "a0bf45ed",
   "metadata": {},
   "outputs": [
    {
     "data": {
      "text/plain": [
       "tensor(True, device='cuda:0')"
      ]
     },
     "execution_count": 23,
     "metadata": {},
     "output_type": "execute_result"
    }
   ],
   "source": [
    "(o == out.transpose(1,0)).all()"
   ]
  },
  {
   "cell_type": "code",
   "execution_count": null,
   "id": "dbbaf9b3",
   "metadata": {},
   "outputs": [],
   "source": []
  }
 ],
 "metadata": {
  "kernelspec": {
   "display_name": "Python 3",
   "language": "python",
   "name": "python3"
  },
  "language_info": {
   "codemirror_mode": {
    "name": "ipython",
    "version": 3
   },
   "file_extension": ".py",
   "mimetype": "text/x-python",
   "name": "python",
   "nbconvert_exporter": "python",
   "pygments_lexer": "ipython3",
   "version": "3.9.5"
  }
 },
 "nbformat": 4,
 "nbformat_minor": 5
}
