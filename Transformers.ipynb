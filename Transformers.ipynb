{
 "cells": [
  {
   "cell_type": "code",
   "execution_count": 1,
   "id": "2b0f3187",
   "metadata": {},
   "outputs": [],
   "source": [
    "import torch\n",
    "import torch.nn as nn\n",
    "import torch.nn.functional as F"
   ]
  },
  {
   "cell_type": "code",
   "execution_count": 2,
   "id": "c88d8d4b",
   "metadata": {},
   "outputs": [],
   "source": [
    "import numpy as np\n",
    "import matplotlib.pyplot as plt\n",
    "from collections import OrderedDict"
   ]
  },
  {
   "cell_type": "code",
   "execution_count": 3,
   "id": "b41e8987",
   "metadata": {},
   "outputs": [],
   "source": [
    "device = \"cuda\" if torch.cuda.is_available() else \"cpu\""
   ]
  },
  {
   "cell_type": "markdown",
   "id": "d55f843f",
   "metadata": {},
   "source": [
    "$\\begin{equation*}\\Large\n",
    "Attention(Q,K,V) = softmax\\left(\\frac{QK^{T}}{\\sqrt{d_k}}\\right)V\n",
    "\\end{equation*}$"
   ]
  },
  {
   "cell_type": "code",
   "execution_count": 9,
   "id": "55fa7e85",
   "metadata": {},
   "outputs": [],
   "source": [
    "def scaled_dot_product_attention(q, k, v, attn_mask=None): # q,k[B, nheads, seq_len, depth]\n",
    "    depth = q.size(-1)\n",
    "    scale = depth**-0.5\n",
    "    q = q*scale\n",
    "\n",
    "    attn = torch.matmul(q, k.transpose(-2,-1)) # [B, nheads, seq_len_q, seq_len_k]\n",
    "    if attn_mask is not None:\n",
    "        attn += attn_mask\n",
    "    attn = attn.softmax(dim=-1)\n",
    "    # dropout\n",
    "    out = torch.matmul(attn, v)    # [B, nheads, seq_len_q, depth_v]\n",
    "    return out, attn"
   ]
  },
  {
   "cell_type": "code",
   "execution_count": 10,
   "id": "6d5175d6",
   "metadata": {},
   "outputs": [],
   "source": [
    "class mha(nn.Module):  # multi headed attention\n",
    "    def __init__(self, emb_dim=512, nheads=8):\n",
    "        super().__init__()\n",
    "        self.nheads = nheads\n",
    "        self.qw = nn.Linear(emb_dim, emb_dim)\n",
    "        self.kw = nn.Linear(emb_dim, emb_dim)\n",
    "        self.vw = nn.Linear(emb_dim, emb_dim)\n",
    "        self.out_proj = nn.Linear(emb_dim, emb_dim)\n",
    "\n",
    "    def forward(self, query, key, value, attn_mask=None):   # [B, seq_len, emb_dim]\n",
    "        batch_size, seq_len, emb_dim = query.shape\n",
    "        q,k,v = self.qw(query), self.kw(key), self.vw(value) # [B, seq_len, emb_dim]\n",
    "        \n",
    "        q = q.view(batch_size, seq_len, self.nheads, -1)\n",
    "        k = k.view_as(q)\n",
    "        v = v.view_as(q)     # [B, seq_len, nheads, depth]   # emb_dim = nheads * depth\n",
    "        \n",
    "        q = q.transpose(-2,-3)\n",
    "        k = k.transpose(-2,-3)\n",
    "        v = v.transpose(-2,-3)  # [B, nheads, seq_len, depth]\n",
    "        \n",
    "        out, attn = scaled_dot_product_attention(q,k,v,attn_mask)   # [B, nheads, seq_len, depth]\n",
    "        \n",
    "        out = out.transpose(-2,-3)  # [B, seq_len, nheads, depth]\n",
    "        \n",
    "        out = out.reshape(batch_size, seq_len, -1)  # [B, seq_len, emb_dim]\n",
    "        out = self.out_proj(out)     # [B, seq_len, emb_dim]\n",
    "        return out, attn"
   ]
  },
  {
   "cell_type": "code",
   "execution_count": 17,
   "id": "0dea63be",
   "metadata": {},
   "outputs": [],
   "source": [
    "def get_ffn(d_model, dp_rate=0.1, activation='relu'):\n",
    "    if activation == 'relu':\n",
    "        act_l = nn.ReLU()\n",
    "    elif activation == 'gelu':\n",
    "        act_l = nn.GELU()\n",
    "    return nn.Sequential(OrderedDict([\n",
    "            ('lin1', nn.Linear(d_model, d_model*4)),\n",
    "            ('activation', act_l),\n",
    "            ('dropout', nn.Dropout(dp_rate)),\n",
    "            ('lin2', nn.Linear(d_model*4, d_model))\n",
    "        ]))"
   ]
  },
  {
   "cell_type": "code",
   "execution_count": 23,
   "id": "c3489d0e",
   "metadata": {},
   "outputs": [],
   "source": [
    "class TransformerEncoderLayer(nn.Module):\n",
    "    def __init__(self, d_model=512, nheads=8, dp_rate=0.1, activation='relu'):\n",
    "        super().__init__()\n",
    "        self.attn = mha(emb_dim=d_model, nheads=nheads)\n",
    "        self.dropout1 = nn.Dropout(dp_rate)\n",
    "        self.ln1 = nn.LayerNorm(d_model)\n",
    "        self.ffn = get_ffn(d_model, dp_rate, activation)\n",
    "        self.dropout2 = nn.Dropout(dp_rate)\n",
    "        self.ln2 = nn.LayerNorm(d_model)\n",
    "\n",
    "    def forward(self, x, attn_mask=None):   # [B, seq_len, d_model]\n",
    "        x = self.ln1(x + self.dropout1(self.attn(x,x,x, attn_mask)[0]))\n",
    "        x = self.ln2(x + self.dropout2(self.ffn(x)))\n",
    "        return x"
   ]
  },
  {
   "cell_type": "code",
   "execution_count": 24,
   "id": "16f3ae37",
   "metadata": {},
   "outputs": [],
   "source": [
    "class TransformerDecoderLayer(nn.Module):\n",
    "    def __init__(self, d_model=512, nheads=8, dp_rate=0.1, activation='relu'):\n",
    "        super().__init__()\n",
    "        self.attn1 = mha(emb_dim=d_model, nheads=nheads)\n",
    "        self.dropout1 = nn.Dropout(dp_rate)\n",
    "        self.ln1 = nn.LayerNorm(d_model)\n",
    "\n",
    "        self.attn2 = mha(emb_dim=d_model, nheads=nheads)\n",
    "        self.dropout2 = nn.Dropout(dp_rate)\n",
    "        self.ln2 = nn.LayerNorm(d_model)\n",
    "\n",
    "        self.ffn = get_ffn(d_model, dp_rate, activation)\n",
    "        self.dropout3 = nn.Dropout(dp_rate)\n",
    "        self.ln3 = nn.LayerNorm(d_model)\n",
    "    \n",
    "    def forward(self, x, enc_output, attn_mask=None, padding_mask=None):   # [B, seq_len, d_model]\n",
    "        x = self.ln1(x + self.dropout1(self.attn1(x,x,x, attn_mask)[0]))\n",
    "        x = self.ln1(x + self.dropout1(self.attn2(x,enc_output,enc_output, padding_mask)[0]))\n",
    "        x = self.ln2(x + self.dropout2(self.ffn(x)))\n",
    "        return x"
   ]
  },
  {
   "cell_type": "code",
   "execution_count": 25,
   "id": "78c5e19b",
   "metadata": {},
   "outputs": [],
   "source": [
    "class TransformerEncoder(nn.Module):\n",
    "    def __init__(self, src_vocab_size, nlayers=6, d_model=512, nheads=8, dp_rate=0.1, activation='relu'):\n",
    "        super().__init__()\n",
    "        self.embedding = nn.Embedding(src_vocab_size, d_model)\n",
    "        self.enc_layers = nn.ModuleList([TransformerEncoderLayer(d_model, nheads, dp_rate, activation)\n",
    "                                         for _ in range(nlayers)])\n",
    "    \n",
    "    def forward(self, x, attn_mask=None):\n",
    "        x = self.embedding(x)\n",
    "        x+= self.pos_enc\n",
    "        for lyr in self.enc_layers:\n",
    "            x = lyr(x, attn_mask)\n",
    "        return x"
   ]
  },
  {
   "cell_type": "code",
   "execution_count": 26,
   "id": "7b8c16d4",
   "metadata": {},
   "outputs": [],
   "source": [
    "class TransformerDecoder(nn.Module):\n",
    "    def __init__(self, tgt_vocab_size, nlayers=6, d_model=512, nheads=8, dp_rate=0.1, activation='relu'):\n",
    "        super().__init__()\n",
    "        self.embedding = nn.Embedding(tgt_vocab_size, d_model)\n",
    "        self.dec_layers = nn.ModuleList([TransformerDecoderLayer(d_model, nheads, dp_rate, activation)\n",
    "                                         for _ in range(nlayers)])\n",
    "    \n",
    "    def forward(self, x, enc_output, attn_mask=None, padding_mask=None):\n",
    "        x = self.embedding(x)\n",
    "        x+= self.pos_enc\n",
    "        for lyr in self.dec_layers:\n",
    "            x = lyr(x, enc_output, attn_mask, padding_mask)\n",
    "        return x"
   ]
  },
  {
   "cell_type": "code",
   "execution_count": null,
   "id": "0b58d713",
   "metadata": {},
   "outputs": [],
   "source": [
    "class Transformer(nn.Module):\n",
    "    def __init__(self, src_vocab_size, tgt_vocab_size, d_model=512,\n",
    "                 nheads=8, nlayers=6, dp_rate=0.1, activation='relu'):\n",
    "        super().__init__()\n",
    "        self.encoder = TransformerEncoder(src_vocab_size, nlayers, d_model, nheads, dp_rate, activation)\n",
    "        self.decoder = TransformerDecoder(tgt_vocab_size, nlayers, d_model, nheads, dp_rate, activation)\n",
    "        self.fout = nn.Linear(d_model, tgt_vocab_size)\n",
    "        self.reset_parameters()\n",
    "\n",
    "    def reset_parameters(self):\n",
    "        for p in self.parameters():\n",
    "            if p.dim() > 1:\n",
    "                nn.init.xavier_uniform_(p)\n",
    "    \n",
    "    def forward(self, src, tgt, attn_mask=None, padding_mask=None):\n",
    "        x = self.encoder(src, attn_mask)\n",
    "        x = self.decoder(tgt, x, attn_mask, padding_mask)\n",
    "        x = self.fout(x)\n",
    "        return x"
   ]
  },
  {
   "cell_type": "code",
   "execution_count": null,
   "id": "e33ad17b",
   "metadata": {},
   "outputs": [],
   "source": []
  },
  {
   "cell_type": "code",
   "execution_count": 21,
   "id": "ac93985d",
   "metadata": {},
   "outputs": [],
   "source": []
  },
  {
   "cell_type": "code",
   "execution_count": null,
   "id": "bdbf2c1c",
   "metadata": {},
   "outputs": [],
   "source": []
  }
 ],
 "metadata": {
  "kernelspec": {
   "display_name": "Python 3",
   "language": "python",
   "name": "python3"
  },
  "language_info": {
   "codemirror_mode": {
    "name": "ipython",
    "version": 3
   },
   "file_extension": ".py",
   "mimetype": "text/x-python",
   "name": "python",
   "nbconvert_exporter": "python",
   "pygments_lexer": "ipython3",
   "version": "3.9.5"
  }
 },
 "nbformat": 4,
 "nbformat_minor": 5
}
