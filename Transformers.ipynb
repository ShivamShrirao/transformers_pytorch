{
 "cells": [
  {
   "cell_type": "code",
   "execution_count": 1,
   "id": "2b0f3187",
   "metadata": {},
   "outputs": [],
   "source": [
    "import torch\n",
    "import torch.nn as nn\n",
    "import torch.nn.functional as F"
   ]
  },
  {
   "cell_type": "code",
   "execution_count": 2,
   "id": "c88d8d4b",
   "metadata": {},
   "outputs": [],
   "source": [
    "import numpy as np\n",
    "import matplotlib.pyplot as plt"
   ]
  },
  {
   "cell_type": "code",
   "execution_count": 3,
   "id": "b41e8987",
   "metadata": {},
   "outputs": [],
   "source": [
    "device = \"cuda\" if torch.cuda.is_available() else \"cpu\""
   ]
  },
  {
   "cell_type": "markdown",
   "id": "d55f843f",
   "metadata": {},
   "source": [
    "$\\begin{equation*}\\Large\n",
    "Attention(Q,K,V) = softmax\\left(\\frac{QK^{T}}{\\sqrt{d_k}}\\right)V\n",
    "\\end{equation*}$"
   ]
  },
  {
   "cell_type": "code",
   "execution_count": 101,
   "id": "55fa7e85",
   "metadata": {},
   "outputs": [],
   "source": [
    "def scaled_dot_product_attention(q, k, v, mask=None): # q,k[B, nheads, seq_len, depth]\n",
    "    depth = q.size(-1)\n",
    "    scale = depth**-0.5\n",
    "    q = q*scale\n",
    "\n",
    "    attn = torch.matmul(q, k.transpose(-2,-1)) # [B, nheads, seq_len_q, seq_len_k]\n",
    "    attn = attn.softmax(dim=-1)\n",
    "    # dropout\n",
    "    out = torch.matmul(attn, v)    # [B, nheads, seq_len_q, depth_v]\n",
    "    return out, attn"
   ]
  },
  {
   "cell_type": "code",
   "execution_count": 102,
   "id": "6d5175d6",
   "metadata": {},
   "outputs": [],
   "source": [
    "class mha(nn.Module):  # multi headed attention\n",
    "    def __init__(self, emb_dim=512, nheads=8):\n",
    "        super().__init__()\n",
    "        self.nheads = nheads\n",
    "        self.qw = nn.Linear(emb_dim, emb_dim)\n",
    "        self.kw = nn.Linear(emb_dim, emb_dim)\n",
    "        self.vw = nn.Linear(emb_dim, emb_dim)\n",
    "        self.out_proj = nn.Linear(emb_dim, emb_dim)\n",
    "\n",
    "    def forward(self, query, key, value):   # [B, seq_len, emb_dim]\n",
    "        batch_size, seq_len, emb_dim = query.shape\n",
    "        q,k,v = self.qw(query), self.kw(key), self.vw(value) # [B, seq_len, emb_dim]\n",
    "        \n",
    "        q = q.view(batch_size, seq_len, self.nheads, -1)\n",
    "        k = k.view_as(q)\n",
    "        v = v.view_as(q)     # [B, seq_len, nheads, depth]\n",
    "        \n",
    "        q = q.transpose(-2,-3)\n",
    "        k = k.transpose(-2,-3)\n",
    "        v = v.transpose(-2,-3)  # [B, nheads, seq_len, depth]\n",
    "        \n",
    "        out, attn = scaled_dot_product_attention(q,k,v)   # [B, nheads, seq_len, depth]\n",
    "        \n",
    "        out = out.transpose(-2,-3)  # [B, seq_len, nheads, depth]\n",
    "        \n",
    "        out = out.reshape(batch_size, seq_len, -1)\n",
    "        out = self.out_proj(out)\n",
    "        return out, attn"
   ]
  },
  {
   "cell_type": "code",
   "execution_count": 174,
   "id": "1e1b226b",
   "metadata": {},
   "outputs": [],
   "source": [
    "def scaled_dot_product_attention(q, k, v, mask=None): # q,k[B, nheads, depth, seq_len]\n",
    "    depth = q.size(-1)\n",
    "    scale = depth**-0.5\n",
    "    q = q*scale\n",
    "\n",
    "    attn = torch.matmul(q.transpose(-2,-1), k) # [B, nheads, seq_len_q, seq_len_k]\n",
    "    attn = attn.softmax(dim=-1)\n",
    "    # dropout\n",
    "    out = torch.matmul(v, attn.transpose(-2,-1))    # [B, nheads, depth_v, seq_len_q]\n",
    "    return out, attn"
   ]
  },
  {
   "cell_type": "code",
   "execution_count": 175,
   "id": "c238d598",
   "metadata": {},
   "outputs": [],
   "source": [
    "class mha(nn.Module):  # multi headed attention\n",
    "    def __init__(self, emb_dim=512, nheads=8):\n",
    "        super().__init__()\n",
    "        self.nheads = nheads\n",
    "        self.qw = nn.Conv1d(emb_dim, emb_dim, kernel_size=1)\n",
    "        self.kw = nn.Conv1d(emb_dim, emb_dim, kernel_size=1)\n",
    "        self.vw = nn.Conv1d(emb_dim, emb_dim, kernel_size=1)\n",
    "        self.out_proj = nn.Conv1d(emb_dim, emb_dim, kernel_size=1)\n",
    "\n",
    "    def forward(self, query, key, value):   # [B, emb_dim, seq_len]\n",
    "        batch_size, emb_dim, seq_len,  = query.shape\n",
    "        q,k,v = self.qw(query), self.kw(key), self.vw(value) # [B, emb_dim, seq_len]\n",
    "\n",
    "        q = q.view(batch_size, self.nheads, -1, seq_len)\n",
    "        k = k.view_as(q)\n",
    "        v = v.view_as(q)     # [B, nheads, depth, seq_len]\n",
    "\n",
    "        out, attn = scaled_dot_product_attention(q,k,v)   # [B, nheads, depth, seq_len]\n",
    "        \n",
    "        out = out.reshape(batch_size, -1, seq_len)\n",
    "        out = self.out_proj(out)\n",
    "        return out, attn"
   ]
  },
  {
   "cell_type": "code",
   "execution_count": 176,
   "id": "38d444bd",
   "metadata": {},
   "outputs": [],
   "source": [
    "atn = mha(emb_dim=512)#.to(device)"
   ]
  },
  {
   "cell_type": "code",
   "execution_count": 177,
   "id": "360e40e3",
   "metadata": {},
   "outputs": [],
   "source": [
    "x = torch.randn(8, 512, 64)#.to(device)"
   ]
  },
  {
   "cell_type": "code",
   "execution_count": 178,
   "id": "6179b974",
   "metadata": {
    "scrolled": true
   },
   "outputs": [
    {
     "name": "stdout",
     "output_type": "stream",
     "text": [
      "9.61 ms ± 47.4 µs per loop (mean ± std. dev. of 7 runs, 100 loops each)\n"
     ]
    }
   ],
   "source": [
    "%%timeit\n",
    "out, attn = atn(x,x,x)\n",
    "out.shape, attn.mean(dim=1).shape"
   ]
  },
  {
   "cell_type": "code",
   "execution_count": 11,
   "id": "3152ace9",
   "metadata": {},
   "outputs": [],
   "source": [
    "tmha = nn.MultiheadAttention(embed_dim=512, num_heads=8)#.to(device)"
   ]
  },
  {
   "cell_type": "code",
   "execution_count": 72,
   "id": "236431c7",
   "metadata": {},
   "outputs": [
    {
     "data": {
      "text/plain": [
       "[torch.Size([1536, 512]),\n",
       " torch.Size([1536]),\n",
       " torch.Size([512, 512]),\n",
       " torch.Size([512])]"
      ]
     },
     "execution_count": 72,
     "metadata": {},
     "output_type": "execute_result"
    }
   ],
   "source": [
    "[w.shape for w in tmha.parameters()]"
   ]
  },
  {
   "cell_type": "code",
   "execution_count": 12,
   "id": "6c168b6e",
   "metadata": {},
   "outputs": [
    {
     "data": {
      "text/plain": [
       "torch.Size([64, 8, 512])"
      ]
     },
     "execution_count": 12,
     "metadata": {},
     "output_type": "execute_result"
    }
   ],
   "source": [
    "y = x.transpose(1,0)\n",
    "y.shape"
   ]
  },
  {
   "cell_type": "code",
   "execution_count": 13,
   "id": "fabff591",
   "metadata": {},
   "outputs": [],
   "source": [
    "with torch.no_grad():\n",
    "    for w,nw in zip(tmha.parameters(), atn.parameters()):\n",
    "        w.copy_(nw)"
   ]
  },
  {
   "cell_type": "code",
   "execution_count": 179,
   "id": "4f0f079c",
   "metadata": {},
   "outputs": [
    {
     "name": "stdout",
     "output_type": "stream",
     "text": [
      "10.3 ms ± 273 µs per loop (mean ± std. dev. of 7 runs, 100 loops each)\n"
     ]
    }
   ],
   "source": [
    "%%timeit\n",
    "o,a = tmha(y,y,y)\n",
    "o.shape, a.shape"
   ]
  },
  {
   "cell_type": "code",
   "execution_count": 15,
   "id": "865bf6e1",
   "metadata": {},
   "outputs": [
    {
     "data": {
      "text/plain": [
       "tensor(True)"
      ]
     },
     "execution_count": 15,
     "metadata": {},
     "output_type": "execute_result"
    }
   ],
   "source": [
    "(o == out.transpose(1,0)).all()"
   ]
  },
  {
   "cell_type": "code",
   "execution_count": null,
   "id": "c3489d0e",
   "metadata": {},
   "outputs": [],
   "source": []
  }
 ],
 "metadata": {
  "kernelspec": {
   "display_name": "Python 3",
   "language": "python",
   "name": "python3"
  },
  "language_info": {
   "codemirror_mode": {
    "name": "ipython",
    "version": 3
   },
   "file_extension": ".py",
   "mimetype": "text/x-python",
   "name": "python",
   "nbconvert_exporter": "python",
   "pygments_lexer": "ipython3",
   "version": "3.9.5"
  }
 },
 "nbformat": 4,
 "nbformat_minor": 5
}
