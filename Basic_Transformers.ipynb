{
  "nbformat": 4,
  "nbformat_minor": 5,
  "metadata": {
    "kernelspec": {
      "display_name": "Python 3",
      "language": "python",
      "name": "python3"
    },
    "language_info": {
      "codemirror_mode": {
        "name": "ipython",
        "version": 3
      },
      "file_extension": ".py",
      "mimetype": "text/x-python",
      "name": "python",
      "nbconvert_exporter": "python",
      "pygments_lexer": "ipython3",
      "version": "3.9.5"
    },
    "toc-autonumbering": false,
    "colab": {
      "name": "Basic_Transformers.ipynb",
      "provenance": [],
      "collapsed_sections": []
    },
    "accelerator": "GPU"
  },
  "cells": [
    {
      "cell_type": "code",
      "metadata": {
        "id": "l5tKOBF6HuH2",
        "colab": {
          "base_uri": "https://localhost:8080/"
        },
        "outputId": "05305343-b2e2-4a90-ad56-7f3fd32a289e"
      },
      "source": [
        "!nvidia-smi"
      ],
      "id": "l5tKOBF6HuH2",
      "execution_count": 1,
      "outputs": [
        {
          "output_type": "stream",
          "text": [
            "Sun Jun 13 20:11:23 2021       \n",
            "+-----------------------------------------------------------------------------+\n",
            "| NVIDIA-SMI 465.27       Driver Version: 460.32.03    CUDA Version: 11.2     |\n",
            "|-------------------------------+----------------------+----------------------+\n",
            "| GPU  Name        Persistence-M| Bus-Id        Disp.A | Volatile Uncorr. ECC |\n",
            "| Fan  Temp  Perf  Pwr:Usage/Cap|         Memory-Usage | GPU-Util  Compute M. |\n",
            "|                               |                      |               MIG M. |\n",
            "|===============================+======================+======================|\n",
            "|   0  Tesla T4            Off  | 00000000:00:04.0 Off |                    0 |\n",
            "| N/A   68C    P8    11W /  70W |      0MiB / 15109MiB |      0%      Default |\n",
            "|                               |                      |                  N/A |\n",
            "+-------------------------------+----------------------+----------------------+\n",
            "                                                                               \n",
            "+-----------------------------------------------------------------------------+\n",
            "| Processes:                                                                  |\n",
            "|  GPU   GI   CI        PID   Type   Process name                  GPU Memory |\n",
            "|        ID   ID                                                   Usage      |\n",
            "|=============================================================================|\n",
            "|  No running processes found                                                 |\n",
            "+-----------------------------------------------------------------------------+\n"
          ],
          "name": "stdout"
        }
      ]
    },
    {
      "cell_type": "code",
      "metadata": {
        "id": "X3r5QBMWr500"
      },
      "source": [
        "%pip install -q wandb"
      ],
      "id": "X3r5QBMWr500",
      "execution_count": 2,
      "outputs": []
    },
    {
      "cell_type": "markdown",
      "metadata": {
        "id": "a307e59e-a9ba-4f2d-8e45-a5f7834c7e55"
      },
      "source": [
        "# References\n",
        "- https://www.tensorflow.org/text/tutorials/transformer\n",
        "- https://pytorch.org/tutorials/beginner/translation_tansformer.html\n",
        "- https://pytorch.org/docs/stable/generated/torch.nn.Transformer.html\n",
        "- https://arxiv.org/abs/1706.03762"
      ],
      "id": "a307e59e-a9ba-4f2d-8e45-a5f7834c7e55"
    },
    {
      "cell_type": "code",
      "metadata": {
        "scrolled": true,
        "id": "2b0f3187"
      },
      "source": [
        "import torch\n",
        "import torch.nn as nn\n",
        "import torch.nn.functional as F"
      ],
      "id": "2b0f3187",
      "execution_count": 3,
      "outputs": []
    },
    {
      "cell_type": "code",
      "metadata": {
        "scrolled": true,
        "id": "c88d8d4b"
      },
      "source": [
        "import numpy as np\n",
        "import matplotlib.pyplot as plt\n",
        "from tqdm.notebook import tqdm\n",
        "from collections import OrderedDict"
      ],
      "id": "c88d8d4b",
      "execution_count": 4,
      "outputs": []
    },
    {
      "cell_type": "code",
      "metadata": {
        "scrolled": true,
        "id": "b41e8987"
      },
      "source": [
        "device = \"cuda\" if torch.cuda.is_available() else \"cpu\""
      ],
      "id": "b41e8987",
      "execution_count": 5,
      "outputs": []
    },
    {
      "cell_type": "markdown",
      "metadata": {
        "id": "e717d971-2bdc-4d61-9975-cb5a88eea648"
      },
      "source": [
        "# Position Encoding"
      ],
      "id": "e717d971-2bdc-4d61-9975-cb5a88eea648"
    },
    {
      "cell_type": "markdown",
      "metadata": {
        "tags": [],
        "id": "228862e3-b636-45ee-8583-66664720e1ca"
      },
      "source": [
        "$\\begin{equation*}\\Large\n",
        "PE_{(pos,2i)} = sin\\left(\\frac{pos}{10000^{\\frac{2i}{d_{model}}}}\\right)\n",
        "\\end{equation*}$\n",
        "\n",
        "$\\begin{equation*}\\Large\n",
        "PE_{(pos,2i+1)} = cos\\left(\\frac{pos}{10000^{\\frac{2i}{d_{model}}}}\\right)\n",
        "\\end{equation*}$"
      ],
      "id": "228862e3-b636-45ee-8583-66664720e1ca"
    },
    {
      "cell_type": "code",
      "metadata": {
        "scrolled": true,
        "id": "5cdd1343-9e81-4957-bdf3-b36096f5b768"
      },
      "source": [
        "def positional_encoding(max_seq_len, d_model):\n",
        "    pos = np.arange(max_seq_len)[:, None]   # [max_seq_len, 1]\n",
        "    i = np.arange(d_model)[None,:]          # [1, d_model]\n",
        "    angles = (pos / (10_000**(2*i/d_model))).astype(np.float32)\n",
        "    angles[:,0::2] = np.sin(angles[:,0::2])\n",
        "    angles[:,1::2] = np.cos(angles[:,1::2])\n",
        "    return angles[None,:]   # [1, max_seq_len, d_model]"
      ],
      "id": "5cdd1343-9e81-4957-bdf3-b36096f5b768",
      "execution_count": 6,
      "outputs": []
    },
    {
      "cell_type": "code",
      "metadata": {
        "tags": [],
        "id": "14d5d6c4-c1fe-48e3-a035-76357d85728e",
        "colab": {
          "base_uri": "https://localhost:8080/",
          "height": 283
        },
        "outputId": "bd3704ea-361f-4ecf-c91e-3cfeb8d0ad49"
      },
      "source": [
        "max_seq_len, d_model = 2048, 512\n",
        "pe = positional_encoding(max_seq_len, d_model)[0]\n",
        "pe = pe.reshape(max_seq_len, d_model//2, 2)\n",
        "pe = pe.transpose(2,1,0)\n",
        "pe = pe.reshape(d_model, max_seq_len)\n",
        "plt.pcolormesh(pe, cmap='RdBu')\n",
        "plt.ylabel('Depth')\n",
        "plt.xlabel('Position')\n",
        "plt.colorbar()\n",
        "plt.show()"
      ],
      "id": "14d5d6c4-c1fe-48e3-a035-76357d85728e",
      "execution_count": 7,
      "outputs": [
        {
          "output_type": "display_data",
          "data": {
            "image/png": "[encoded data removed]",
            "text/plain": [
              "<Figure size 432x288 with 2 Axes>"
            ]
          },
          "metadata": {
            "tags": [],
            "needs_background": "light"
          }
        }
      ]
    },
    {
      "cell_type": "markdown",
      "metadata": {
        "id": "6998f3e9-d81e-4a39-a02c-042ea16687c6"
      },
      "source": [
        "# Multi Headed Scaled Dot Product Attention"
      ],
      "id": "6998f3e9-d81e-4a39-a02c-042ea16687c6"
    },
    {
      "cell_type": "markdown",
      "metadata": {
        "id": "0695bbc2-eb41-43b6-bcb4-4033698b27ca"
      },
      "source": [
        "![multi_head_attention](https://www.tensorflow.org/images/tutorials/transformer/multi_head_attention.png)"
      ],
      "id": "0695bbc2-eb41-43b6-bcb4-4033698b27ca"
    },
    {
      "cell_type": "markdown",
      "metadata": {
        "id": "d55f843f"
      },
      "source": [
        "$\\begin{equation*}\\Large\n",
        "Attention(Q,K,V) = softmax\\left(\\frac{QK^{T}}{\\sqrt{d_k}}\\right)V\n",
        "\\end{equation*}$"
      ],
      "id": "d55f843f"
    },
    {
      "cell_type": "code",
      "metadata": {
        "scrolled": true,
        "id": "6d5175d6"
      },
      "source": [
        "class mha(nn.Module):  # multi headed attention\n",
        "    def __init__(self, d_model=512, nheads=8, dp_rate=0.1):\n",
        "        super().__init__()\n",
        "        self.nheads = nheads\n",
        "        self.qw = nn.Linear(d_model, d_model)\n",
        "        self.kw = nn.Linear(d_model, d_model)\n",
        "        self.vw = nn.Linear(d_model, d_model)\n",
        "        self.out_proj = nn.Linear(d_model, d_model)\n",
        "        self.depth = d_model//nheads\n",
        "        self.dropout = nn.Dropout(dp_rate)\n",
        "\n",
        "    def scaled_dot_product_attention(self, q, k, v, attn_mask=None): # q,k[B, nheads, seq_len, depth]\n",
        "        scale = q.size(-1)**-0.5\n",
        "        q = q*scale\n",
        "\n",
        "        attn = torch.matmul(q, k.transpose(-2,-1)) # [B, nheads, seq_len_q, seq_len_k]\n",
        "        if attn_mask is not None:\n",
        "            attn += attn_mask\n",
        "        attn = attn.softmax(dim=-1)\n",
        "        attn = self.dropout(attn)\n",
        "        out = torch.matmul(attn, v)    # [B, nheads, seq_len_q, depth_v]\n",
        "        return out, attn\n",
        "\n",
        "    def forward(self, query, key, value, attn_mask=None):   # [B, seq_len, d_model]\n",
        "        batch_size, seq_len, d_model = query.shape\n",
        "        q,k,v = self.qw(query), self.kw(key), self.vw(value) # [B, seq_len, d_model]\n",
        "        \n",
        "        q = q.view(batch_size, -1, self.nheads, self.depth)     # [B, seq_len_q, nheads, depth]   # d_model = nheads * depth\n",
        "        k = k.view(batch_size, -1, self.nheads, self.depth)     # [B, seq_len_k, nheads, depth]\n",
        "        v = v.view(batch_size, -1, self.nheads, self.depth)     # [B, seq_len_v, nheads, depth]\n",
        "        \n",
        "        q = q.transpose(-2,-3)  # [B, nheads, seq_len_q, depth]\n",
        "        k = k.transpose(-2,-3)  # [B, nheads, seq_len_k, depth]\n",
        "        v = v.transpose(-2,-3)  # [B, nheads, seq_len_v, depth]\n",
        "        \n",
        "        out, attn = self.scaled_dot_product_attention(q,k,v,attn_mask)   # [B, nheads, seq_len_q, depth]\n",
        "        \n",
        "        out = out.transpose(-2,-3)  # [B, seq_len_q, nheads, depth]\n",
        "        \n",
        "        out = out.reshape(batch_size, -1, d_model)  # [B, seq_len_q, d_model]\n",
        "        out = self.out_proj(out)     # [B, seq_len_q, d_model]\n",
        "        return out, attn"
      ],
      "id": "6d5175d6",
      "execution_count": 8,
      "outputs": []
    },
    {
      "cell_type": "markdown",
      "metadata": {
        "id": "b9076fbf-83a1-45cf-89da-303ba58953d3"
      },
      "source": [
        "# Transformer"
      ],
      "id": "b9076fbf-83a1-45cf-89da-303ba58953d3"
    },
    {
      "cell_type": "markdown",
      "metadata": {
        "id": "fe537fb5-3a5d-4f24-9a30-028b19535183"
      },
      "source": [
        "![Transformer](https://www.tensorflow.org/images/tutorials/transformer/transformer.png)"
      ],
      "id": "fe537fb5-3a5d-4f24-9a30-028b19535183"
    },
    {
      "cell_type": "code",
      "metadata": {
        "scrolled": true,
        "id": "0dea63be"
      },
      "source": [
        "# just for feed forward network in Encoder and Decoder layers\n",
        "def get_ffn(d_model, dp_rate=0.1, activation='relu'):\n",
        "    if activation == 'relu':\n",
        "        act_lyr = nn.ReLU()\n",
        "    elif activation == 'gelu':\n",
        "        act_lyr = nn.GELU()\n",
        "    return nn.Sequential(OrderedDict([\n",
        "            ('lin1', nn.Linear(d_model, d_model*4)),\n",
        "            ('activation', act_lyr),\n",
        "            ('dropout', nn.Dropout(dp_rate)),\n",
        "            ('lin2', nn.Linear(d_model*4, d_model))\n",
        "        ]))"
      ],
      "id": "0dea63be",
      "execution_count": 9,
      "outputs": []
    },
    {
      "cell_type": "code",
      "metadata": {
        "scrolled": true,
        "id": "c3489d0e"
      },
      "source": [
        "class TransformerEncoderLayer(nn.Module):\n",
        "    def __init__(self, d_model=512, nheads=8, dp_rate=0.1, activation='relu'):\n",
        "        super().__init__()\n",
        "        self.attn = mha(d_model=d_model, nheads=nheads, dp_rate=dp_rate)\n",
        "        self.dropout1 = nn.Dropout(dp_rate)\n",
        "        self.ln1 = nn.LayerNorm(d_model)\n",
        "        self.ffn = get_ffn(d_model, dp_rate, activation)\n",
        "        self.dropout2 = nn.Dropout(dp_rate)\n",
        "        self.ln2 = nn.LayerNorm(d_model)\n",
        "\n",
        "    def forward(self, x, attn_mask=None):   # [B, seq_len, d_model]\n",
        "        x = self.ln1(x + self.dropout1(self.attn(x,x,x, attn_mask)[0]))\n",
        "        x = self.ln2(x + self.dropout2(self.ffn(x)))\n",
        "        return x"
      ],
      "id": "c3489d0e",
      "execution_count": 10,
      "outputs": []
    },
    {
      "cell_type": "code",
      "metadata": {
        "scrolled": true,
        "id": "16f3ae37"
      },
      "source": [
        "class TransformerDecoderLayer(nn.Module):\n",
        "    def __init__(self, d_model=512, nheads=8, dp_rate=0.1, activation='relu'):\n",
        "        super().__init__()\n",
        "        self.attn1 = mha(d_model=d_model, nheads=nheads, dp_rate=dp_rate)\n",
        "        self.dropout1 = nn.Dropout(dp_rate)\n",
        "        self.ln1 = nn.LayerNorm(d_model)\n",
        "\n",
        "        self.attn2 = mha(d_model=d_model, nheads=nheads, dp_rate=dp_rate)\n",
        "        self.dropout2 = nn.Dropout(dp_rate)\n",
        "        self.ln2 = nn.LayerNorm(d_model)\n",
        "\n",
        "        self.ffn = get_ffn(d_model, dp_rate, activation)\n",
        "        self.dropout3 = nn.Dropout(dp_rate)\n",
        "        self.ln3 = nn.LayerNorm(d_model)\n",
        "    \n",
        "    def forward(self, x, enc_output, src_mask=None, tgt_mask=None):   # [B, seq_len, d_model]\n",
        "        x = self.ln1(x + self.dropout1(self.attn1(x,x,x, tgt_mask)[0]))\n",
        "        x = self.ln2(x + self.dropout2(self.attn2(x,enc_output,enc_output, src_mask)[0]))\n",
        "        x = self.ln3(x + self.dropout3(self.ffn(x)))\n",
        "        return x"
      ],
      "id": "16f3ae37",
      "execution_count": 11,
      "outputs": []
    },
    {
      "cell_type": "code",
      "metadata": {
        "scrolled": true,
        "id": "78c5e19b"
      },
      "source": [
        "class TransformerEncoder(nn.Module):\n",
        "    def __init__(self, src_vocab_size, nlayers=6, d_model=512, nheads=8, dp_rate=0.1, activation='relu'):\n",
        "        super().__init__()\n",
        "        self.d_model = d_model\n",
        "        self.embedding = nn.Embedding(src_vocab_size, d_model)\n",
        "        pos_enc = torch.tensor(positional_encoding(max_seq_len, d_model), requires_grad=False)\n",
        "        self.register_buffer('pos_enc', pos_enc)\n",
        "        self.dropout = nn.Dropout(dp_rate)\n",
        "        self.enc_layers = nn.ModuleList([TransformerEncoderLayer(d_model, nheads, dp_rate, activation)\n",
        "                                         for _ in range(nlayers)])   # repeat encoder layer N times\n",
        "    \n",
        "    def forward(self, x, src_mask=None):   # [B, seq_len]\n",
        "        seq_len = x.size(1)\n",
        "        x = self.embedding(x)               # [B, seq_len, d_model]\n",
        "        x = x * (self.d_model**0.5)\n",
        "        x = x + self.pos_enc[:,:seq_len]\n",
        "        x = self.dropout(x)\n",
        "        for lyr in self.enc_layers:\n",
        "            x = lyr(x, src_mask)\n",
        "        return x"
      ],
      "id": "78c5e19b",
      "execution_count": 12,
      "outputs": []
    },
    {
      "cell_type": "code",
      "metadata": {
        "scrolled": true,
        "id": "7b8c16d4"
      },
      "source": [
        "class TransformerDecoder(nn.Module):\n",
        "    def __init__(self, tgt_vocab_size, nlayers=6, d_model=512, nheads=8, dp_rate=0.1, activation='relu'):\n",
        "        super().__init__()\n",
        "        self.d_model = d_model\n",
        "        self.embedding = nn.Embedding(tgt_vocab_size, d_model)\n",
        "        pos_enc = torch.tensor(positional_encoding(max_seq_len, d_model), requires_grad=False)\n",
        "        self.register_buffer('pos_enc', pos_enc)\n",
        "        self.dropout = nn.Dropout(dp_rate)\n",
        "        self.dec_layers = nn.ModuleList([TransformerDecoderLayer(d_model, nheads, dp_rate, activation)\n",
        "                                         for _ in range(nlayers)])   # repeat decoder layer N times\n",
        "    \n",
        "    def forward(self, x, enc_output, src_mask=None, tgt_mask=None):   # [B, seq_len]\n",
        "        seq_len = x.size(1)\n",
        "        x = self.embedding(x)              # [B, seq_len, d_model]\n",
        "        x = x * (self.d_model**0.5)\n",
        "        x = x + self.pos_enc[:,:seq_len]\n",
        "        x = self.dropout(x)\n",
        "        for lyr in self.dec_layers:\n",
        "            x = lyr(x, enc_output, src_mask, tgt_mask)\n",
        "        return x"
      ],
      "id": "7b8c16d4",
      "execution_count": 13,
      "outputs": []
    },
    {
      "cell_type": "code",
      "metadata": {
        "scrolled": true,
        "id": "0b58d713"
      },
      "source": [
        "class Transformer(nn.Module):\n",
        "    def __init__(self, src_vocab_size, tgt_vocab_size, d_model=512,\n",
        "                 nheads=8, nlayers=6, dp_rate=0.1, activation='relu'):\n",
        "        super().__init__()\n",
        "        self.encoder = TransformerEncoder(src_vocab_size, nlayers, d_model, nheads, dp_rate, activation)\n",
        "        self.decoder = TransformerDecoder(tgt_vocab_size, nlayers, d_model, nheads, dp_rate, activation)\n",
        "        self.fout = nn.Linear(d_model, tgt_vocab_size)\n",
        "        self.reset_parameters()\n",
        "\n",
        "    def reset_parameters(self):\n",
        "        for p in self.parameters():\n",
        "            if p.dim() > 1:\n",
        "                nn.init.xavier_uniform_(p)\n",
        "    \n",
        "    def forward(self, src, tgt, src_mask=None, tgt_mask=None):   # [B, seq_len]\n",
        "        x = self.encoder(src, src_mask)\n",
        "        x = self.decoder(tgt, x, src_mask, tgt_mask)\n",
        "        x = self.fout(x)\n",
        "        return x"
      ],
      "id": "0b58d713",
      "execution_count": 14,
      "outputs": []
    },
    {
      "cell_type": "markdown",
      "metadata": {
        "id": "e533ae4b-50cb-4047-8452-25e2b1bb6f6a"
      },
      "source": [
        "# Dataset"
      ],
      "id": "e533ae4b-50cb-4047-8452-25e2b1bb6f6a"
    },
    {
      "cell_type": "code",
      "metadata": {
        "scrolled": true,
        "id": "4e49be3b-c99d-4b4e-9217-c4adf513bbcf"
      },
      "source": [
        "import torchtext\n",
        "from torchtext.utils import download_from_url, extract_archive\n",
        "from torchtext.data.utils import get_tokenizer\n",
        "from torchtext.vocab import Vocab\n",
        "\n",
        "from collections import Counter\n",
        "from itertools import chain\n",
        "import io"
      ],
      "id": "4e49be3b-c99d-4b4e-9217-c4adf513bbcf",
      "execution_count": 15,
      "outputs": []
    },
    {
      "cell_type": "code",
      "metadata": {
        "scrolled": true,
        "id": "45c1c302-be9d-4462-bdb6-82e2954076e5"
      },
      "source": [
        "url_base = 'https://raw.githubusercontent.com/multi30k/dataset/master/data/task1/raw/'\n",
        "train_urls = ('train.de.gz', 'train.en.gz')\n",
        "val_urls = ('val.de.gz', 'val.en.gz')\n",
        "test_urls = ('test_2016_flickr.de.gz', 'test_2016_flickr.en.gz')"
      ],
      "id": "45c1c302-be9d-4462-bdb6-82e2954076e5",
      "execution_count": 16,
      "outputs": []
    },
    {
      "cell_type": "code",
      "metadata": {
        "scrolled": true,
        "id": "23cbb064-40dc-4397-9357-61e001578c9e"
      },
      "source": [
        "train_filepaths = [extract_archive(download_from_url(url_base + url))[0] for url in train_urls]\n",
        "val_filepaths = [extract_archive(download_from_url(url_base + url))[0] for url in val_urls]\n",
        "test_filepaths = [extract_archive(download_from_url(url_base + url))[0] for url in test_urls]"
      ],
      "id": "23cbb064-40dc-4397-9357-61e001578c9e",
      "execution_count": 17,
      "outputs": []
    },
    {
      "cell_type": "code",
      "metadata": {
        "scrolled": true,
        "id": "ebc90d83-7045-4ebb-ba43-6683cfd4632e",
        "colab": {
          "base_uri": "https://localhost:8080/"
        },
        "outputId": "ff1dc4f9-9a92-49b3-b9c7-1a54cdde9ae7"
      },
      "source": [
        "train_filepaths"
      ],
      "id": "ebc90d83-7045-4ebb-ba43-6683cfd4632e",
      "execution_count": 18,
      "outputs": [
        {
          "output_type": "execute_result",
          "data": {
            "text/plain": [
              "['/content/.data/train.de', '/content/.data/train.en']"
            ]
          },
          "metadata": {
            "tags": []
          },
          "execution_count": 18
        }
      ]
    },
    {
      "cell_type": "code",
      "metadata": {
        "colab": {
          "base_uri": "https://localhost:8080/"
        },
        "id": "JsLdLxbjMBkQ",
        "outputId": "2af47c39-5a7d-4bbf-c467-825c772c588a"
      },
      "source": [
        "!spacy download de_core_news_sm -q\n",
        "!spacy download en_core_web_sm -q"
      ],
      "id": "JsLdLxbjMBkQ",
      "execution_count": 19,
      "outputs": [
        {
          "output_type": "stream",
          "text": [
            "\u001b[38;5;2m✔ Download and installation successful\u001b[0m\n",
            "You can now load the model via spacy.load('de_core_news_sm')\n",
            "\u001b[38;5;2m✔ Download and installation successful\u001b[0m\n",
            "You can now load the model via spacy.load('en_core_web_sm')\n"
          ],
          "name": "stdout"
        }
      ]
    },
    {
      "cell_type": "code",
      "metadata": {
        "scrolled": true,
        "id": "4f423660-860c-444a-8c89-162e3d3f3fb6"
      },
      "source": [
        "de_tokenizer = get_tokenizer('spacy', language='de_core_news_sm')\n",
        "en_tokenizer = get_tokenizer('spacy', language='en_core_web_sm')"
      ],
      "id": "4f423660-860c-444a-8c89-162e3d3f3fb6",
      "execution_count": 20,
      "outputs": []
    },
    {
      "cell_type": "code",
      "metadata": {
        "scrolled": true,
        "id": "beba9675-b8dd-49f4-8e49-0212aab3ae3b"
      },
      "source": [
        "def build_vocab(filepath, tokenizer):\n",
        "    with io.open(filepath, encoding=\"utf8\") as f:\n",
        "        lines = ''.join(f.readlines()).replace('\\n', ' ')\n",
        "        counter = Counter(tokenizer(lines))\n",
        "    return Vocab(counter, specials=['<unk>', '<pad>', '<bos>', '<eos>'])"
      ],
      "id": "beba9675-b8dd-49f4-8e49-0212aab3ae3b",
      "execution_count": 21,
      "outputs": []
    },
    {
      "cell_type": "code",
      "metadata": {
        "scrolled": true,
        "id": "6f5292c6-83e7-41eb-aa52-6a665b6ae84b"
      },
      "source": [
        "de_vocab = build_vocab(train_filepaths[0], de_tokenizer)\n",
        "en_vocab = build_vocab(train_filepaths[1], en_tokenizer)"
      ],
      "id": "6f5292c6-83e7-41eb-aa52-6a665b6ae84b",
      "execution_count": 22,
      "outputs": []
    },
    {
      "cell_type": "code",
      "metadata": {
        "id": "4397343e-2ca5-47fd-bf2e-243b9a508e92"
      },
      "source": [
        "PAD_IDX = de_vocab['<pad>']\n",
        "BOS_IDX = de_vocab['<bos>']\n",
        "EOS_IDX = de_vocab['<eos>']"
      ],
      "id": "4397343e-2ca5-47fd-bf2e-243b9a508e92",
      "execution_count": 23,
      "outputs": []
    },
    {
      "cell_type": "code",
      "metadata": {
        "id": "jzB9CET-lpjd"
      },
      "source": [
        "def split_toks(toks, sep='\\n'):         # tokenizing line by line was too slow on colab.\n",
        "    chunk = []\n",
        "    for v in toks:\n",
        "        if sep in v:\n",
        "            yield chunk\n",
        "            chunk = []\n",
        "        else:\n",
        "            chunk.append(v)"
      ],
      "id": "jzB9CET-lpjd",
      "execution_count": 24,
      "outputs": []
    },
    {
      "cell_type": "code",
      "metadata": {
        "scrolled": true,
        "id": "454d415a-6d07-4609-97b4-f30aee7ced19"
      },
      "source": [
        "def data_preprocess(filepaths):\n",
        "    with io.open(filepaths[0], encoding=\"utf8\") as f:\n",
        "        de_full = ' '.join(f.readlines())\n",
        "    with io.open(filepaths[1], encoding=\"utf8\") as f:\n",
        "        en_full = ' '.join(f.readlines())\n",
        "    de_toks = de_tokenizer(de_full)\n",
        "    en_toks = en_tokenizer(en_full)\n",
        "    de_iter = split_toks(de_toks)\n",
        "    en_iter = split_toks(en_toks)\n",
        "    data = []\n",
        "    for de_line, en_line in zip(de_iter, en_iter):\n",
        "        de_tensor = torch.tensor([BOS_IDX] + \n",
        "                                 [de_vocab[token] for token in de_line] + \n",
        "                                 [EOS_IDX])\n",
        "        en_tensor = torch.tensor([BOS_IDX] + \n",
        "                                 [en_vocab[token] for token in en_line] + \n",
        "                                 [EOS_IDX])\n",
        "        data.append((de_tensor, en_tensor))\n",
        "    return data"
      ],
      "id": "454d415a-6d07-4609-97b4-f30aee7ced19",
      "execution_count": 25,
      "outputs": []
    },
    {
      "cell_type": "code",
      "metadata": {
        "scrolled": true,
        "tags": [],
        "id": "a442bfb3-2f93-48bb-833b-f66141787a00"
      },
      "source": [
        "train_data = data_preprocess(train_filepaths)\n",
        "val_data = data_preprocess(val_filepaths)\n",
        "test_data = data_preprocess(test_filepaths)"
      ],
      "id": "a442bfb3-2f93-48bb-833b-f66141787a00",
      "execution_count": 26,
      "outputs": []
    },
    {
      "cell_type": "code",
      "metadata": {
        "id": "4bb3bb0a-ac59-4301-ad02-89246aacd79d"
      },
      "source": [
        "from torch.nn.utils.rnn import pad_sequence\n",
        "from torch.utils.data import DataLoader"
      ],
      "id": "4bb3bb0a-ac59-4301-ad02-89246aacd79d",
      "execution_count": 27,
      "outputs": []
    },
    {
      "cell_type": "code",
      "metadata": {
        "id": "7b35bca6-b62c-4141-812f-70c364b29943"
      },
      "source": [
        "def generate_batch(data_batch):\n",
        "    de_batch, en_batch = [], []\n",
        "    for (de_item, en_item) in data_batch:\n",
        "        de_batch.append(de_item)\n",
        "        en_batch.append(en_item)\n",
        "    de_batch = pad_sequence(de_batch, batch_first=True, padding_value=PAD_IDX)\n",
        "    en_batch = pad_sequence(en_batch, batch_first=True, padding_value=PAD_IDX)\n",
        "    return de_batch, en_batch"
      ],
      "id": "7b35bca6-b62c-4141-812f-70c364b29943",
      "execution_count": 28,
      "outputs": []
    },
    {
      "cell_type": "code",
      "metadata": {
        "id": "78d0b07b-68f8-4169-b415-bc5999b6ebeb"
      },
      "source": [
        "BATCH_SIZE = 256"
      ],
      "id": "78d0b07b-68f8-4169-b415-bc5999b6ebeb",
      "execution_count": 29,
      "outputs": []
    },
    {
      "cell_type": "code",
      "metadata": {
        "id": "9d6e4641-d327-452f-8c68-5ce4c2dca152"
      },
      "source": [
        "train_iter = DataLoader(train_data, batch_size=BATCH_SIZE, shuffle=True, collate_fn=generate_batch, num_workers=2)\n",
        "valid_iter = DataLoader(val_data,   batch_size=BATCH_SIZE, shuffle=True, collate_fn=generate_batch, num_workers=2)\n",
        "test_iter  = DataLoader(test_data,  batch_size=BATCH_SIZE, shuffle=True, collate_fn=generate_batch, num_workers=2)"
      ],
      "id": "9d6e4641-d327-452f-8c68-5ce4c2dca152",
      "execution_count": 30,
      "outputs": []
    },
    {
      "cell_type": "markdown",
      "metadata": {
        "id": "895ac3ff-22ca-4046-b43c-f8343e2a1ca9"
      },
      "source": [
        "# Masking"
      ],
      "id": "895ac3ff-22ca-4046-b43c-f8343e2a1ca9"
    },
    {
      "cell_type": "code",
      "metadata": {
        "id": "9dd0f4c7-a23d-4c85-b4b8-2db60cfbfbb7"
      },
      "source": [
        "def subsequent_mask(sz):\n",
        "    mask = torch.ones((1,1,sz,sz), device=device, dtype=bool).tril()\n",
        "    mask.logical_not_()\n",
        "    return mask\n",
        "\n",
        "def mask_fill_inf(mask):\n",
        "    return mask.float().masked_fill(mask, float('-inf'))\n",
        "\n",
        "def create_mask(src, tgt):    # [B, seq_len]\n",
        "    tgt_mask = subsequent_mask(tgt.size(1))\n",
        "    \n",
        "    src_padding_mask = (src == PAD_IDX)[:,None,None,:]    # [B, nheads, seq_len_q, seq_len_k]\n",
        "    tgt_padding_mask = (tgt == PAD_IDX)[:,None,None,:]    # [B, nheads, seq_len_q, seq_len_k]\n",
        "    tgt_mask = tgt_mask.logical_or(tgt_padding_mask)      # combine mask for look ahead and tgt padding.\n",
        "    return mask_fill_inf(src_padding_mask), mask_fill_inf(tgt_mask)"
      ],
      "id": "9dd0f4c7-a23d-4c85-b4b8-2db60cfbfbb7",
      "execution_count": 31,
      "outputs": []
    },
    {
      "cell_type": "markdown",
      "metadata": {
        "id": "0d56119e-f642-4fe5-b69c-c077cbb81a78"
      },
      "source": [
        "# Model Parameters"
      ],
      "id": "0d56119e-f642-4fe5-b69c-c077cbb81a78"
    },
    {
      "cell_type": "code",
      "metadata": {
        "id": "0fa93df3-12b0-4b78-9810-a83579ebc26b"
      },
      "source": [
        "import wandb"
      ],
      "id": "0fa93df3-12b0-4b78-9810-a83579ebc26b",
      "execution_count": 32,
      "outputs": []
    },
    {
      "cell_type": "code",
      "metadata": {
        "id": "ec46be21-af2f-45d1-aca2-9eb4bc94f404"
      },
      "source": [
        "config_defaults = {\n",
        "    'src_vocab_size'    : len(de_vocab),\n",
        "    'tgt_vocab_size'    : len(en_vocab),\n",
        "    'BATCH_SIZE'        : BATCH_SIZE,\n",
        "    'd_model'           : 512,\n",
        "    'nheads'            : 8,\n",
        "    'nlayers'           : 3,\n",
        "    'dp_rate'           : 0.1,\n",
        "    'activation'        : 'relu',\n",
        "    'lr'                : 1,#0.0001,\n",
        "    'betas'             : (0.9, 0.98),\n",
        "    'eps'               : 1e-9,\n",
        "    'use_amp'           : True,\n",
        "    'log_interval'      : 10,\n",
        "}"
      ],
      "id": "ec46be21-af2f-45d1-aca2-9eb4bc94f404",
      "execution_count": 33,
      "outputs": []
    },
    {
      "cell_type": "code",
      "metadata": {
        "id": "8a8126f9-b208-47df-bece-d9c81406f684"
      },
      "source": [
        "# run = wandb.init(id='352vnm9l', project=\"Basic_Transformer\", resume='must')\n",
        "# CONFIG = run.config"
      ],
      "id": "8a8126f9-b208-47df-bece-d9c81406f684",
      "execution_count": 34,
      "outputs": []
    },
    {
      "cell_type": "code",
      "metadata": {
        "id": "e8926723-157a-4f00-8784-76dc61e63c98",
        "colab": {
          "base_uri": "https://localhost:8080/",
          "height": 136
        },
        "outputId": "ad250b0c-d451-4bf7-b302-685758adcb2d"
      },
      "source": [
        "run = wandb.init(project=\"Basic_Transformer\", entity=\"shivamshrirao\", config=config_defaults)\n",
        "CONFIG = wandb.config"
      ],
      "id": "e8926723-157a-4f00-8784-76dc61e63c98",
      "execution_count": 35,
      "outputs": [
        {
          "output_type": "stream",
          "text": [
            "\u001b[34m\u001b[1mwandb\u001b[0m: Currently logged in as: \u001b[33mshivamshrirao\u001b[0m (use `wandb login --relogin` to force relogin)\n"
          ],
          "name": "stderr"
        },
        {
          "output_type": "display_data",
          "data": {
            "text/html": [
              "\n",
              "                Tracking run with wandb version 0.10.32<br/>\n",
              "                Syncing run <strong style=\"color:#cdcd00\">leafy-dragon-7</strong> to <a href=\"https://wandb.ai\" target=\"_blank\">Weights & Biases</a> <a href=\"https://docs.wandb.com/integrations/jupyter.html\" target=\"_blank\">(Documentation)</a>.<br/>\n",
              "                Project page: <a href=\"https://wandb.ai/shivamshrirao/Basic_Transformer\" target=\"_blank\">https://wandb.ai/shivamshrirao/Basic_Transformer</a><br/>\n",
              "                Run page: <a href=\"https://wandb.ai/shivamshrirao/Basic_Transformer/runs/2u2lh4pk\" target=\"_blank\">https://wandb.ai/shivamshrirao/Basic_Transformer/runs/2u2lh4pk</a><br/>\n",
              "                Run data is saved locally in <code>/content/wandb/run-20210613_201146-2u2lh4pk</code><br/><br/>\n",
              "            "
            ],
            "text/plain": [
              "<IPython.core.display.HTML object>"
            ]
          },
          "metadata": {
            "tags": []
          }
        }
      ]
    },
    {
      "cell_type": "code",
      "metadata": {
        "id": "bbfc74f2-3966-4542-b381-1fc873c5b6a7"
      },
      "source": [
        "model = Transformer(src_vocab_size = CONFIG['src_vocab_size'],\n",
        "                    tgt_vocab_size = CONFIG['tgt_vocab_size'],\n",
        "                    d_model = CONFIG['d_model'],\n",
        "                    nheads = CONFIG['nheads'],\n",
        "                    nlayers = CONFIG['nlayers'],\n",
        "                    dp_rate = CONFIG['dp_rate'],\n",
        "                    activation = CONFIG['activation']).to(device)"
      ],
      "id": "bbfc74f2-3966-4542-b381-1fc873c5b6a7",
      "execution_count": 36,
      "outputs": []
    },
    {
      "cell_type": "code",
      "metadata": {
        "id": "RXOLhaXK7XPm"
      },
      "source": [
        "def lr_schedule(step, d_model=CONFIG['d_model'], warmup_steps=500):\n",
        "    step = max(1,step)\n",
        "    arg1 = step ** -0.5\n",
        "    arg2 = step * (warmup_steps ** -1.5)\n",
        "    return (d_model ** -0.5) * min(arg1, arg2)"
      ],
      "id": "RXOLhaXK7XPm",
      "execution_count": 37,
      "outputs": []
    },
    {
      "cell_type": "code",
      "metadata": {
        "id": "130a0b2c-784b-4a98-86cc-9f90c8861b70"
      },
      "source": [
        "loss_fn = nn.CrossEntropyLoss(ignore_index=PAD_IDX)\n",
        "\n",
        "optimizer = torch.optim.Adam(\n",
        "    model.parameters(), lr=CONFIG['lr'], betas=CONFIG['betas'], eps=CONFIG['eps']\n",
        ")\n",
        "\n",
        "scheduler = torch.optim.lr_scheduler.LambdaLR(optimizer, lr_schedule)\n",
        "\n",
        "scaler = torch.cuda.amp.GradScaler(enabled=CONFIG['use_amp'])"
      ],
      "id": "130a0b2c-784b-4a98-86cc-9f90c8861b70",
      "execution_count": 38,
      "outputs": []
    },
    {
      "cell_type": "code",
      "metadata": {
        "scrolled": true,
        "id": "20f08630-f615-40fc-8fdf-e4e2af1df10c"
      },
      "source": [
        "from torch.utils.tensorboard import SummaryWriter"
      ],
      "id": "20f08630-f615-40fc-8fdf-e4e2af1df10c",
      "execution_count": 39,
      "outputs": []
    },
    {
      "cell_type": "code",
      "metadata": {
        "scrolled": true,
        "id": "567a8d71-637b-42b2-89cf-65a6b4002d64"
      },
      "source": [
        "writer = SummaryWriter(run.dir+'/tensorboard_logs/custom_transformer')"
      ],
      "id": "567a8d71-637b-42b2-89cf-65a6b4002d64",
      "execution_count": 40,
      "outputs": []
    },
    {
      "cell_type": "code",
      "metadata": {
        "scrolled": true,
        "id": "ca049e4c-3ed5-474b-b4fc-bd4b4dee53fe"
      },
      "source": [
        "src, tgt = next(iter(train_iter))\n",
        "src = src.to(device)\n",
        "tgt = tgt.to(device)\n",
        "writer.add_graph(model, (src, tgt))\n",
        "writer.close()\n",
        "del src, tgt"
      ],
      "id": "ca049e4c-3ed5-474b-b4fc-bd4b4dee53fe",
      "execution_count": null,
      "outputs": []
    },
    {
      "cell_type": "code",
      "metadata": {
        "id": "81ec147d-0134-46c5-b63c-20477ac8bf8f",
        "colab": {
          "base_uri": "https://localhost:8080/"
        },
        "outputId": "e99b024a-8ce3-43dc-db10-2dc9bc827aad"
      },
      "source": [
        "wandb.watch(model, log=None)"
      ],
      "id": "81ec147d-0134-46c5-b63c-20477ac8bf8f",
      "execution_count": 42,
      "outputs": [
        {
          "output_type": "execute_result",
          "data": {
            "text/plain": [
              "[<wandb.wandb_torch.TorchGraph at 0x7fa0b8647ad0>]"
            ]
          },
          "metadata": {
            "tags": []
          },
          "execution_count": 42
        }
      ]
    },
    {
      "cell_type": "code",
      "metadata": {
        "id": "edf280d2-571c-465f-967b-cd55f51994dd"
      },
      "source": [
        "def train_epoch(model, train_iter, optimizer, scaler, scheduler,epoch=1, use_amp=True, log_interval=10):\n",
        "    model.train()\n",
        "    losses = 0\n",
        "    with tqdm(enumerate(train_iter), total=len(train_iter), desc=f\"Epoch {epoch}\") as pbar:\n",
        "        for idx, (src, tgt) in pbar:\n",
        "            src = src.to(device)\n",
        "            tgt = tgt.to(device)\n",
        "\n",
        "            tgt_inp = tgt[:,:-1]      # give input until before the last word.\n",
        "            tgt_out = tgt[:,1:]       # predict the last word based on input and already predicted sentence. (auto-regressive)\n",
        "\n",
        "            src_mask, tgt_mask = create_mask(src, tgt_inp)\n",
        "\n",
        "            optimizer.zero_grad(set_to_none=True)\n",
        "            with torch.cuda.amp.autocast(enabled=use_amp):\n",
        "                logits = model(src, tgt_inp, src_mask, tgt_mask)\n",
        "                loss = loss_fn(logits.reshape(-1, logits.size(-1)), tgt_out.reshape(-1))\n",
        "\n",
        "            scaler.scale(loss).backward()\n",
        "            scaler.step(optimizer)\n",
        "            scaler.update()\n",
        "            scheduler.step()\n",
        "\n",
        "            losses+= loss.item()\n",
        "            avg_loss = losses/(idx+1)\n",
        "            curr_lr = optimizer.param_groups[0]['lr']\n",
        "            if not idx%log_interval:\n",
        "                wandb.log({'loss': avg_loss, 'lr': curr_lr})\n",
        "            pbar.set_postfix({'loss': f'{avg_loss:.3f}', 'lr': curr_lr})\n",
        "    return losses/len(train_iter)"
      ],
      "id": "edf280d2-571c-465f-967b-cd55f51994dd",
      "execution_count": 47,
      "outputs": []
    },
    {
      "cell_type": "code",
      "metadata": {
        "id": "283d2cb0-81c1-4555-8944-d2e9e06dde7c"
      },
      "source": [
        "def evaluate(model, val_iter):\n",
        "    model.eval()\n",
        "    losses = 0\n",
        "    with tqdm(enumerate(val_iter), total=len(val_iter), desc=\"Evaluating\") as pbar:\n",
        "        for idx, (src, tgt) in pbar:\n",
        "            src = src.to(device)\n",
        "            tgt = tgt.to(device)\n",
        "\n",
        "            tgt_inp = tgt[:,:-1]      # give input until before the last word.\n",
        "            tgt_out = tgt[:,1:]       # predict the last word based on input and already predicted sentence. (auto-regressive)\n",
        "\n",
        "            src_mask, tgt_mask = create_mask(src, tgt_inp)\n",
        "\n",
        "            logits = model(src, tgt_inp, src_mask, tgt_mask)\n",
        "\n",
        "            loss = loss_fn(logits.reshape(-1, logits.size(-1)), tgt_out.reshape(-1))\n",
        "\n",
        "            losses+= loss.item()\n",
        "            pbar.set_postfix({'val_loss': f\"{losses/(idx+1):.3f}\"})\n",
        "    return losses/len(val_iter)"
      ],
      "id": "283d2cb0-81c1-4555-8944-d2e9e06dde7c",
      "execution_count": 48,
      "outputs": []
    },
    {
      "cell_type": "code",
      "metadata": {
        "id": "adf0e11c-d8c0-40ce-9b58-ca592753aa4b"
      },
      "source": [
        "init_epoch = 1"
      ],
      "id": "adf0e11c-d8c0-40ce-9b58-ca592753aa4b",
      "execution_count": 49,
      "outputs": []
    },
    {
      "cell_type": "code",
      "metadata": {
        "id": "c8a7d16c-4c04-42e8-982d-747cba36397e"
      },
      "source": [
        "def save_model(model, optimizer, epoch):\n",
        "    torch.save({\n",
        "                'model_state_dict': model.state_dict(),\n",
        "                'optimizer_state_dict': optimizer.state_dict(),\n",
        "                'epoch': epoch,\n",
        "                }, run.dir + '/model.pth')"
      ],
      "id": "c8a7d16c-4c04-42e8-982d-747cba36397e",
      "execution_count": 50,
      "outputs": []
    },
    {
      "cell_type": "code",
      "metadata": {
        "id": "c29bb927-d17a-429e-9164-09372ca8dee4"
      },
      "source": [
        "# save_model(model, optimizer, init_epoch)"
      ],
      "id": "c29bb927-d17a-429e-9164-09372ca8dee4",
      "execution_count": 51,
      "outputs": []
    },
    {
      "cell_type": "code",
      "metadata": {
        "id": "597bddc8-b7b6-4cbf-9776-4ff14f96cda6"
      },
      "source": [
        "# wandb.save(\"*.pth\")"
      ],
      "id": "597bddc8-b7b6-4cbf-9776-4ff14f96cda6",
      "execution_count": 52,
      "outputs": []
    },
    {
      "cell_type": "code",
      "metadata": {
        "id": "a7a4c56e-84a6-4231-be40-979ca24e6f61"
      },
      "source": [
        "# checkpoint = torch.load(run.dir + '/model.pth')\n",
        "# model.load_state_dict(checkpoint['model_state_dict'])\n",
        "# optimizer.load_state_dict(checkpoint['optimizer_state_dict'])\n",
        "# init_epoch = checkpoint['epoch']"
      ],
      "id": "a7a4c56e-84a6-4231-be40-979ca24e6f61",
      "execution_count": 53,
      "outputs": []
    },
    {
      "cell_type": "code",
      "metadata": {
        "id": "ocP0VLBPt-jl"
      },
      "source": [
        "NUM_EPOCHS = 20"
      ],
      "id": "ocP0VLBPt-jl",
      "execution_count": 54,
      "outputs": []
    },
    {
      "cell_type": "code",
      "metadata": {
        "id": "9e77b3bf-ba3f-4ae7-b49b-d2ba919d5abb"
      },
      "source": [
        "for epoch in range(init_epoch, NUM_EPOCHS+1):\n",
        "    train_loss = train_epoch(model, train_iter, optimizer, scaler, scheduler,\n",
        "                             epoch, CONFIG['use_amp'], CONFIG['log_interval'])\n",
        "    val_loss = evaluate(model, valid_iter)\n",
        "    wandb.log({\"val_loss\": val_loss})\n",
        "    print(f\"Epoch: {epoch}/{NUM_EPOCHS}, Train loss: {train_loss:.3f}, Val loss: {val_loss:.3f}\\n\")\n",
        "    # if not epoch%10:\n",
        "    #     save_model(model, optimizer, epoch)"
      ],
      "id": "9e77b3bf-ba3f-4ae7-b49b-d2ba919d5abb",
      "execution_count": null,
      "outputs": []
    },
    {
      "cell_type": "code",
      "metadata": {
        "id": "_QUZa8lTxUx3"
      },
      "source": [
        "init_epoch = epoch"
      ],
      "id": "_QUZa8lTxUx3",
      "execution_count": 56,
      "outputs": []
    },
    {
      "cell_type": "code",
      "metadata": {
        "id": "7bb0a9e7-5e8a-4172-ba54-388e892fd9be"
      },
      "source": [
        "run.finish()"
      ],
      "id": "7bb0a9e7-5e8a-4172-ba54-388e892fd9be",
      "execution_count": null,
      "outputs": []
    },
    {
      "cell_type": "markdown",
      "metadata": {
        "id": "YAvcxbPTFax2"
      },
      "source": [
        "# Make Predictions"
      ],
      "id": "YAvcxbPTFax2"
    },
    {
      "cell_type": "code",
      "metadata": {
        "id": "GN_nUNjNEYTk"
      },
      "source": [
        "def greedy_decode(model, src, src_mask, max_len, start_symbol):\n",
        "    model.eval()\n",
        "    src = src.to(device)\n",
        "    src_mask = src_mask.to(device)\n",
        "    enc_output = model.encoder(src, src_mask)\n",
        "    tgt = torch.LongTensor([start_symbol]).reshape(1,-1).to(device)\n",
        "    for i in range(max_len):\n",
        "        tgt_mask = mask_fill_inf(subsequent_mask(tgt.size(1)))\n",
        "        out = model.decoder(tgt, enc_output, src_mask, tgt_mask)\n",
        "        prob = model.fout(out[:,-1])\n",
        "        _, next_word = torch.max(prob, dim = 1)\n",
        "        next_word = next_word.item()\n",
        "        tgt = torch.cat([tgt, torch.LongTensor([next_word]).reshape(1,-1).to(device)], dim=1)\n",
        "        if next_word == EOS_IDX:\n",
        "            break\n",
        "    return tgt\n",
        "\n",
        "def translate(model, src, src_vocab, tgt_vocab, src_tokenizer):\n",
        "    tokens = [BOS_IDX] + [src_vocab[tok] for tok in src_tokenizer(src)]+ [EOS_IDX]\n",
        "    src = torch.LongTensor(tokens).reshape(1,-1)\n",
        "    src_mask = torch.zeros_like(src).float()[:,None,None,:]\n",
        "    tgt = greedy_decode(model, src, src_mask, max_len=len(tokens)+10, start_symbol=BOS_IDX).flatten()\n",
        "    return \" \".join([tgt_vocab.itos[tok] for tok in tgt]).replace(\"<bos>\", \"\").replace(\"<eos>\", \"\")"
      ],
      "id": "GN_nUNjNEYTk",
      "execution_count": 116,
      "outputs": []
    },
    {
      "cell_type": "code",
      "metadata": {
        "colab": {
          "base_uri": "https://localhost:8080/",
          "height": 35
        },
        "id": "4qMIRyVtNRzI",
        "outputId": "3516d9f9-8379-4a6c-bd96-0ba8179f7e8c"
      },
      "source": [
        "translate(model, \"Eine Gruppe von Menschen steht vor einem Iglu .\", de_vocab, en_vocab, de_tokenizer)"
      ],
      "id": "4qMIRyVtNRzI",
      "execution_count": 123,
      "outputs": [
        {
          "output_type": "execute_result",
          "data": {
            "application/vnd.google.colaboratory.intrinsic+json": {
              "type": "string"
            },
            "text/plain": [
              "' A group of people standing in front of an igloo . '"
            ]
          },
          "metadata": {
            "tags": []
          },
          "execution_count": 123
        }
      ]
    },
    {
      "cell_type": "code",
      "metadata": {
        "id": "51mFdS6nOKNb"
      },
      "source": [
        ""
      ],
      "id": "51mFdS6nOKNb",
      "execution_count": 113,
      "outputs": []
    }
  ]
}